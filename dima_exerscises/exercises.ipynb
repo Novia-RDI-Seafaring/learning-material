{
 "cells": [
  {
   "cell_type": "markdown",
   "metadata": {},
   "source": [
    "### eigen value calculator"
   ]
  },
  {
   "cell_type": "markdown",
   "metadata": {},
   "source": [
    "make a function that calculates the eigen values for a matrix\n",
    "\n",
    "$$\n",
    "\n",
    "\\begin{bmatrix}\n",
    "2 & 7\\\\\n",
    "1 & 8\\\\\n",
    "\\end{bmatrix}\n",
    "\n",
    "$$\n",
    "\n",
    "the function utilized for this is the one provided by 3b1b in the [link](https://www.youtube.com/watch?v=e50Bj7jn9IQ&list=PLZHQObOWTQDPD3MizzM2xVFitgF8hE_ab&index=16&ab_channel=3Blue1Brown):\n",
    "\n",
    "\n",
    "\n"
   ]
  },
  {
   "cell_type": "code",
   "execution_count": 1,
   "metadata": {},
   "outputs": [],
   "source": [
    "import math\n",
    "\n",
    "def get_dot(matrix):\n",
    "    return matrix[0][0]*matrix[1][1] - matrix[1][0]*matrix[0][1]\n",
    "\n",
    "def get_diagonal_average(matrix):\n",
    "    return (matrix[0][0] + matrix[1][1])/2\n",
    "\n",
    "def get_labdas(dot_product, average_labda):\n",
    "    l1 = average_labda + math.sqrt(average_labda*average_labda - dot_product)\n",
    "    l2 = average_labda - math.sqrt(average_labda*average_labda - dot_product)\n",
    "    return l1, l2\n",
    "\n",
    "\n",
    "def find_eugen_values(matrix):\n",
    "    dot = get_dot(matrix= matrix)\n",
    "    average = get_diagonal_average(matrix= matrix)\n",
    "    lambda1, lambda2 = get_labdas(dot_product=dot, average_labda=average)\n",
    "    return lambda1, lambda2\n",
    "\n"
   ]
  },
  {
   "cell_type": "code",
   "execution_count": 2,
   "metadata": {},
   "outputs": [
    {
     "data": {
      "text/plain": [
       "(9.0, 1.0)"
      ]
     },
     "execution_count": 2,
     "metadata": {},
     "output_type": "execute_result"
    }
   ],
   "source": [
    "matrix = [\n",
    "    [2, 7],\n",
    "    [1, 8]\n",
    "]\n",
    "\n",
    "find_eugen_values(matrix= matrix)"
   ]
  }
 ],
 "metadata": {
  "kernelspec": {
   "display_name": "opc_ua_01",
   "language": "python",
   "name": "python3"
  },
  "language_info": {
   "codemirror_mode": {
    "name": "ipython",
    "version": 3
   },
   "file_extension": ".py",
   "mimetype": "text/x-python",
   "name": "python",
   "nbconvert_exporter": "python",
   "pygments_lexer": "ipython3",
   "version": "3.12.2"
  }
 },
 "nbformat": 4,
 "nbformat_minor": 2
}
