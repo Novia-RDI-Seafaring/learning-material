{
 "cells": [
  {
   "cell_type": "code",
   "execution_count": 2,
   "id": "33e4efd5-f69d-4afe-a14e-818fd9d2c04a",
   "metadata": {},
   "outputs": [
    {
     "ename": "ModuleNotFoundError",
     "evalue": "No module named 'matplotlib'",
     "output_type": "error",
     "traceback": [
      "\u001b[1;31m---------------------------------------------------------------------------\u001b[0m",
      "\u001b[1;31mModuleNotFoundError\u001b[0m                       Traceback (most recent call last)",
      "Cell \u001b[1;32mIn[2], line 2\u001b[0m\n\u001b[0;32m      1\u001b[0m \u001b[38;5;28;01mimport\u001b[39;00m \u001b[38;5;21;01mnumpy\u001b[39;00m \u001b[38;5;28;01mas\u001b[39;00m \u001b[38;5;21;01mnp\u001b[39;00m\n\u001b[1;32m----> 2\u001b[0m \u001b[38;5;28;01mimport\u001b[39;00m \u001b[38;5;21;01mmatplotlib\u001b[39;00m\u001b[38;5;21;01m.\u001b[39;00m\u001b[38;5;21;01mpyplot\u001b[39;00m \u001b[38;5;28;01mas\u001b[39;00m \u001b[38;5;21;01mplt\u001b[39;00m\n\u001b[0;32m      3\u001b[0m \u001b[38;5;28;01mfrom\u001b[39;00m \u001b[38;5;21;01mmpl_toolkits\u001b[39;00m\u001b[38;5;21;01m.\u001b[39;00m\u001b[38;5;21;01mmplot3d\u001b[39;00m \u001b[38;5;28;01mimport\u001b[39;00m Axes3D\n\u001b[0;32m      4\u001b[0m \u001b[38;5;66;03m#from drawing_functions import drawVec3\u001b[39;00m\n",
      "\u001b[1;31mModuleNotFoundError\u001b[0m: No module named 'matplotlib'"
     ]
    }
   ],
   "source": [
    "import numpy as np\n",
    "import matplotlib.pyplot as plt\n",
    "from mpl_toolkits.mplot3d import Axes3D\n",
    "#from drawing_functions import drawVec3"
   ]
  },
  {
   "cell_type": "markdown",
   "id": "d0e1b356-2cc5-46a1-baf3-e9161edec99d",
   "metadata": {},
   "source": [
    "### Problem set\n",
    "\n",
    "**P1.1.** What is the (Eucledian) length of the following vectors $v_1 = \\begin{bmatrix} 1\\\\0 \\end{bmatrix}$, $v_2 = \\begin{bmatrix} 1\\\\1 \\end{bmatrix}$, and $v_3 = \\begin{bmatrix} 1\\\\2\\\\3 \\end{bmatrix}$?"
   ]
  },
  {
   "cell_type": "markdown",
   "id": "50a12a39-63e5-4ab2-8289-2d3a1bec33a9",
   "metadata": {},
   "source": [
    "**P1.2.** A ship (see figure) is affected by two forces (in some units):\n",
    "- Forward thrust: $v_1 = \\begin{bmatrix} 0\\\\1 \\end{bmatrix}$\n",
    "- Side wind: $v_2 = \\begin{bmatrix} 1\\\\0.5 \\end{bmatrix}$\n",
    "\n",
    "What is the net force (vector) affectig the ship? Draw the net force (vector) in the figure below. What is the magnitude of the net force?"
   ]
  },
  {
   "cell_type": "markdown",
   "id": "36f59ced-5c6d-4beb-b678-4c4ce5aeb760",
   "metadata": {},
   "source": [
    "**P1.3** What does the set (collection) of **all** vectors of length (Euclidean) one look like? Make a python code that draws 100 different vectors of length one. How many different ways drawing vectors of length one can you think of?"
   ]
  },
  {
   "cell_type": "markdown",
   "id": "ab318040-a2b2-44f3-a4e8-7de921e01f05",
   "metadata": {},
   "source": [
    "**P1.4** Find the span of the following sets of vectors:\n",
    "- $S = \\{ \\begin{bmatrix} 1\\\\0 \\end{bmatrix}, \\begin{bmatrix} 0\\\\1 \\end{bmatrix} \\}$\n",
    "- $S = \\{ \\begin{bmatrix} 1\\\\3 \\end{bmatrix}, \\begin{bmatrix} 2\\\\6 \\end{bmatrix} \\}$\n",
    "- $S = \\{ \\begin{bmatrix} 1\\\\3\\\\3 \\end{bmatrix}, \\begin{bmatrix} 0\\\\0\\\\1 \\end{bmatrix}, \\begin{bmatrix} 1\\\\3\\\\1 \\end{bmatrix}  \\}$\n",
    "\n",
    "Visualize the span using python code."
   ]
  },
  {
   "cell_type": "markdown",
   "id": "7af915bb-f8ee-43eb-8536-5039f3810ec9",
   "metadata": {},
   "source": [
    "**P1.5** Are the following vectors linearely dependent? What is the span of the vectors?\n",
    "$$ v_1 = \\begin{bmatrix}1\\\\2\\\\3\\end{bmatrix}, v_2 = \\begin{bmatrix}4\\\\5\\\\6\\end{bmatrix}, v_3 = \\begin{bmatrix}7\\\\8\\\\9\\end{bmatrix}$$\n"
   ]
  },
  {
   "cell_type": "markdown",
   "id": "b034cf41-44b2-4ca4-8360-1b875fcd5288",
   "metadata": {},
   "source": [
    "*Solution*: \\textcolor{red}{The set of vectors are linearily independent if there exists constants $\\alpha_1$ and $\\alpha_2$ such that $v_1 = \\alpha_1 v_2 + \\alpha_2 v_3$. The vectors are linearily dependent since $v_1 = 2v_2 - v_3$.}"
   ]
  },
  {
   "cell_type": "markdown",
   "id": "996f7479-1585-4264-93c3-58091c54d3c1",
   "metadata": {},
   "source": [
    "**P1.6**$^\\ast$ A [*convex combination*](https://en.wikipedia.org/wiki/Convex_combination) $p$ of a set of vectors $\\{v_i\\}_{i=0,1,...,n-1}$ is defined as a *linear combination* where all scalars are non-negative and sums to one. That is,\n",
    "$$\n",
    "\\begin{align}\n",
    "&p = a_0v_0 + a_1v_1 + ... + a_{n-1}v_{n-1}, \\\\\n",
    "&\\sum_{i=0}^{n-1} a_i = 1\\\\\n",
    "&a_i \\geq 0,~ \\quad i=0,1,...,n-1\n",
    "\\end{align}\n",
    "$$\n",
    "\n",
    "Write a piece of python code that visualizes convex combinations of the vectors\n",
    "$$\n",
    "v_1 = \\begin{bmatrix} 0\\\\0\\\\1\\end{bmatrix},\n",
    "v_2 = \\begin{bmatrix} 1\\\\0\\\\0\\end{bmatrix},\n",
    "v_3 = \\begin{bmatrix} \\frac{1}{2}\\\\ \\sqrt{\\frac{3}{2}}\\\\0\\end{bmatrix},\n",
    "v_4 = \\begin{bmatrix} \\frac{1}{2}\\\\\\frac{\\sqrt{3}}{6}\\\\ \\frac{\\sqrt{6}}{3}\\end{bmatrix},\n",
    "$$\n",
    "that is $p = a_0v_0 + a_1v_1 + a_2v_2 + a_3v_3$, for various $a_0, a_1,a_2,a_3$.\n",
    "\n",
    "What geometric shape does the set of all convex combinations in this case form? Why do you think is it called a **convex** combination?"
   ]
  },
  {
   "cell_type": "markdown",
   "id": "50e8228f-97ab-468b-bf7f-b74b1387fefc",
   "metadata": {},
   "source": [
    "---"
   ]
  },
  {
   "cell_type": "markdown",
   "id": "1625a0c3-388a-428b-8945-a87d16b795ac",
   "metadata": {},
   "source": [
    "**P2.1** Rewrite the following system of equation in matrix-vector notation\n",
    "$$\n",
    "\\begin{align}\n",
    "3x_1 - 2x_2 - x_3 &= 5\\\\\n",
    "2x_1 - x_2 + 3x_3 &= 12\\\\\n",
    "x_1 + 4x_2 - 2x_3 &= 0\\\\\n",
    "\\end{align}.\n",
    "$$\n",
    "Define the vectors $x$ and $y$ and the matrix $A$."
   ]
  },
  {
   "cell_type": "markdown",
   "id": "ee4ea260-eb32-4a68-93e9-9d3042eb9638",
   "metadata": {},
   "source": [
    "**P2.2** Write your own scripts (without numpy) for\n",
    "- Computing the transpose of a matrix\n",
    "- Matrix-vector multiplication\n",
    "- Multiplying two matrices"
   ]
  },
  {
   "cell_type": "code",
   "execution_count": null,
   "id": "bf999573-b0b7-49a0-8402-1c587f10b4d3",
   "metadata": {},
   "outputs": [],
   "source": [
    "#not complete solution. Annoying using lists. Using numpy arrays instead should be allowed.\n",
    "mat = [[1, 2, 3, 4],[5, 6, 7, 8]]\n",
    "vec = [1, 2, 3 ,4]\n",
    "\n",
    "\n",
    "def isvector(x):\n",
    "    for element in x:\n",
    "        if isinstance(element, list):\n",
    "            return False\n",
    "    return True\n",
    "\n",
    "def get_col(mat,i):\n",
    "     n_rows, n_cols = dim(mat)\n",
    "     if i > n_cols-1:\n",
    "         raise IndexError(\"index i is greater than number of columns\")\n",
    "     else:\n",
    "         col=[]\n",
    "         for row in mat:\n",
    "             col.append(row[i])\n",
    "         return transpose(col)\n",
    "\n",
    "def dim(x):\n",
    "    '''Returns the dimentions of a matrix'''\n",
    "    if isvector(x):\n",
    "        n_cols = 1\n",
    "        n_rows = len(x)\n",
    "        return n_cols, n_rows\n",
    "    else:\n",
    "        n_rows = len(x)\n",
    "        n_cols = len(x[0]) if mat else 0  # Assuming all rows have the same length\n",
    "        return n_rows, n_cols\n",
    "    \n",
    "def transpose(mat):\n",
    "    '''Computes the transpose of a matrix'''\n",
    "    n_rows, n_cols = dim(mat)\n",
    "    if n_rows == 1 or n_cols == 1:\n",
    "        #is vector:\n",
    "        # If the input is already transposed (i.e., a column vector),\n",
    "        # return the flattened version (original form) of the vector\n",
    "        if isinstance(mat[0], list):\n",
    "            return [x[0] for x in mat]\n",
    "        # Otherwise, if it's a row vector, transpose it into a column vector\n",
    "        return [[x] for x in mat]\n",
    "    else:\n",
    "        # is matrix:\n",
    "        matt = []\n",
    "        for j in range(n_cols):\n",
    "            col = []\n",
    "            for row in mat:\n",
    "                col.append(row[j])\n",
    "            matt.append(col)\n",
    "        return matt\n",
    "\n",
    "def mat_add(list1, list2):\n",
    "    if len(list1) != len(list2):\n",
    "        raise ValueError(\"Lists must have the same length\")\n",
    "    if isinstance(list1[0], list):\n",
    "        return [add_elementwise(sublist1, sublist2) for sublist1, sublist2 in zip(list1, list2)]\n",
    "    else:\n",
    "        return [x + y for x, y in zip(list1, list2)]\n",
    "\n",
    "def scalar_mult(arr, scalar):\n",
    "    return [[element * scalar for element in row] for row in arr]\n",
    "\n",
    "#def mat_vec_mult(mat,vec):\n",
    "#    '''returns y = A*x'''\n",
    "#    n_rows, n_cols = dim(mat)\n",
    "#    \n",
    "#    y=[0 for _ in range(n_rows)]\n",
    "#    for j in range(n_cols):\n",
    "#        print(vec[j])\n",
    "#        y = mat_add(y, scalar_mult( get_col(mat,j), vec[j] ) )\n",
    "#    return y\n",
    "\n",
    "#print(len(vec[0]))"
   ]
  },
  {
   "cell_type": "markdown",
   "id": "3ff8b08d-7699-4314-8027-150446a0e0a7",
   "metadata": {},
   "source": [
    "*From this point on, you can use numpy multiplication and transpose in your solutions*"
   ]
  },
  {
   "cell_type": "markdown",
   "id": "77e044df-e4e6-41ce-97a3-84dfcc337075",
   "metadata": {},
   "source": [
    "**P2.3** Write a function that checks if two matrices $A$ and $B$ can be multiplied."
   ]
  },
  {
   "cell_type": "code",
   "execution_count": 18,
   "id": "f6e3b8ff-d022-4642-8aea-5be70701ba81",
   "metadata": {},
   "outputs": [
    {
     "data": {
      "text/plain": [
       "True"
      ]
     },
     "execution_count": 18,
     "metadata": {},
     "output_type": "execute_result"
    }
   ],
   "source": [
    "def can_multiply(A,B):\n",
    "    '''Checks if two matrices A, B (numpy arrays) can be multiplied, i.e., A*B is a valid operation'''\n",
    "    rows_A, cols_A = A.shape\n",
    "    rows_B, cols_B = B.shape\n",
    "    if cols_A == rows_B:\n",
    "        return True\n",
    "    else:\n",
    "        return False\n",
    "\n",
    "#test\n",
    "A = np.array([[1, 2, 3],[4, 5, 6]])\n",
    "B = np.array([[1, 2],[3,4],[5,6]])\n",
    "can_multiply(A,B)"
   ]
  },
  {
   "cell_type": "markdown",
   "id": "e5fc86ae-f70e-411d-9f36-5c0a932e670e",
   "metadata": {},
   "source": [
    "**P2.4** Write a function that checks if a matrix is symmetric."
   ]
  },
  {
   "cell_type": "code",
   "execution_count": 65,
   "id": "01e52308-5149-4ba0-a41e-f8db087fcd0e",
   "metadata": {},
   "outputs": [
    {
     "data": {
      "text/plain": [
       "False"
      ]
     },
     "execution_count": 65,
     "metadata": {},
     "output_type": "execute_result"
    }
   ],
   "source": [
    "def is_symmetric(A):\n",
    "    '''Checks if a matrix (numpy array) A is symmetric'''\n",
    "    rows_A, cols_A = A.shape\n",
    "    # first check if a is n-by-n\n",
    "    if rows_A == cols_A:\n",
    "        # second check if A - A.T = 0\n",
    "        if np.count_nonzero( A - A.T ) == 0:\n",
    "            return True\n",
    "        else:\n",
    "            return False\n",
    "    else:\n",
    "        return False\n",
    "\n",
    "#test\n",
    "A = np.array([[1, 4],[3, 2]])\n",
    "is_symmetric(A)"
   ]
  },
  {
   "cell_type": "markdown",
   "id": "fd537221-9600-462a-8bc1-279de561cad1",
   "metadata": {},
   "source": [
    "**P2.5** Visualize the function $f(x) = x^T Q x + Ax$, where $x\\in\\mathbb{R}^2$ and\n",
    "$$\n",
    "Q = \\begin{bmatrix} 1 &0.5\\\\0.5 &1 \\end{bmatrix},~A=\\begin{bmatrix}-5\\\\1\\end{bmatrix}.\n",
    "$$"
   ]
  },
  {
   "cell_type": "code",
   "execution_count": 10,
   "id": "7b4d4f7b-e7de-4e6c-96bc-522370f33081",
   "metadata": {},
   "outputs": [
    {
     "data": {
      "image/png": "[encoded data removed]",
      "text/plain": [
       "<Figure size 640x480 with 1 Axes>"
      ]
     },
     "metadata": {},
     "output_type": "display_data"
    }
   ],
   "source": [
    "Q = np.array([[1, .5],[.5, 1]])\n",
    "A = np.array([-5, 1])\n",
    "\n",
    "# Define the function\n",
    "def f(x_1, x_2, Q, A):\n",
    "    x_prime = np.array([[x_1], [x_2]])  # Reshape to column vectors\n",
    "    return x_prime.T@Q@x_prime + A@x_prime\n",
    "    #return np.dot(np.dot(x_prime.T, Q), x_prime) + np.dot(A, x_prime).flatten()\n",
    "\n",
    "# Generate points for plotting\n",
    "x = np.linspace(-20, 20, 100)\n",
    "y = np.linspace(-20, 20, 100)\n",
    "X, Y = np.meshgrid(x, y)\n",
    "Z = np.array([f(xi, yi, Q, A) for xi, yi in zip(X.flatten(), Y.flatten())]).reshape(X.shape)\n",
    "\n",
    "# Plot the function\n",
    "fig, ax = plt.subplots()\n",
    "ax.contour(X, Y, Z)\n",
    "\n",
    "# Set labels\n",
    "ax.set_xlabel('x_1')\n",
    "ax.set_ylabel('x_2')\n",
    "ax.set_aspect('equal', 'box')\n",
    "plt.show()\n"
   ]
  },
  {
   "cell_type": "markdown",
   "id": "f2441a13-8901-4c3e-a3b5-f042ea04027d",
   "metadata": {},
   "source": [
    "**P2.6** What is the minima of f(x) in P2.2?"
   ]
  },
  {
   "cell_type": "markdown",
   "id": "99ad2902-35f7-4531-a500-c5886f76a035",
   "metadata": {},
   "source": [
    "**P2.X** $^\\ast$ Write a python script that takes in a matrix and rewrites it in row-echolon form. See, e.g. [geeksforgeeks](https://www.geeksforgeeks.org/converting-matrix-into-row-echelon-form-in-python/) for inspiration."
   ]
  },
  {
   "cell_type": "markdown",
   "id": "a87ee8ad-c245-4528-a8d8-0e022e8b28da",
   "metadata": {},
   "source": [
    "**P2.X+1**$^\\ast$ Solve for $x$ in P2.1 using your method from P2.X."
   ]
  },
  {
   "cell_type": "code",
   "execution_count": null,
   "id": "d67d8925-5df4-449f-9ef6-224b4f14ebbc",
   "metadata": {},
   "outputs": [],
   "source": []
  }
 ],
 "metadata": {
  "kernelspec": {
   "display_name": "Python 3 (ipykernel)",
   "language": "python",
   "name": "python3"
  },
  "language_info": {
   "codemirror_mode": {
    "name": "ipython",
    "version": 3
   },
   "file_extension": ".py",
   "mimetype": "text/x-python",
   "name": "python",
   "nbconvert_exporter": "python",
   "pygments_lexer": "ipython3",
   "version": "3.8.18"
  }
 },
 "nbformat": 4,
 "nbformat_minor": 5
}
