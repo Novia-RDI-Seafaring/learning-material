{
 "cells": [
  {
   "cell_type": "code",
   "execution_count": 1,
   "metadata": {},
   "outputs": [],
   "source": [
    "import numpy as np\n",
    "import matplotlib.pyplot as plt"
   ]
  },
  {
   "cell_type": "markdown",
   "metadata": {},
   "source": [
    "# Introduction to Systems, Process Control, and Signal Processing\n",
    "## Purpose\n",
    "This control and signal processing introduction course is based on selected material from lecture notes, YouTube videos, and literature. The purpose is to provide self-learning material to help build a foundational understanding of modern control, estimation, and signal processing methods without diving into unnecessary details.\n",
    "\n",
    "Problem sets marked with $^\\ast$ are more advanced and might require some additional reading beyond the provided material.\n",
    "\n",
    "*Try to solve the problem sets with as few additional packages as possible.*\n",
    "\n",
    "### Learning goals:\n",
    "- Understanding of systems modeling using state-space representations\n",
    "- Learn fundamental  properties of systems\n",
    "- Understanding of h ow to represent and analyze time-series data\n",
    "- Signal processing using state-space representations\n",
    "\n",
    "### Material\n",
    "Self-study material\n",
    "- [Verhaegen & Verdult (2007), Filtering and System Identification](https://www.cambridge.org/core/books/filtering-and-system-identification/D8589CB019CB233291427967DEE3EBE1)\n",
    "\n",
    "### Pre-requisites\n",
    "-  Linear algebra self-learning material ``linalg.ipynb``\n",
    "\n",
    "## Introduction\n"
   ]
  },
  {
   "cell_type": "markdown",
   "metadata": {},
   "source": [
    "## Ch. 1. Signals and Systems\n",
    "This section provide some definitions and characterizatiosn of signals and systems.\n",
    "\n",
    "### Signals\n",
    "A signal is formally a function (real or complex valued) of time, such that $x : \\mathcal{T} \\to \\mathcal{R}$ with time domain $\\mathcal{T}$ and the signal range $\\mathcal{R} \\subset \\mathrm{C}$. Informally, a signal is simply a quantity of interest that changes with time. For example, indoor air temperature and humidity are example of signals that convay information about the state of the room, and that we might wish to measure, predict, or control. Signals with respect to the time-domain are often called *time series*.\n",
    "\n",
    "Signals are typically cathegorized based on their properties and domains:\n",
    "- **Continuous-time signals** $x(t),~t\\in\\mathrm{R}$, are defined at every time-inastance and are functions of a contonuous variable $t$. The indoor temperature of a room is an example of a continuous-time signal since it is defined at all time instances. \n",
    "- **Discrete-time signals** $x(k), k=0,1,...$, are defined only at discrete time instances. Discrete-time signals are typically derived from continuous-time signals via sampling (measuring). For example, a sensor measuring the indoor temperature once every $T$ seconds produces a discrete-time signal $x(Tk)$ with $k=0,1,...$. When it is obvious that $x(Tk)$ is sampeled discretely with respect to a constant sampling time $T$, it is common practice to simply denote the sequence $x(k)$.\n",
    "- **Deterministic signals** are signals that can be described precisely by mathematical equations and their future values can be predicted exactly if their past values are known. A sine-wave is an example of a deterministic signal.\n",
    "- **Stochastic signals** are signals that cannot precisely be determined from mathematical equations. Thus, they inherit some form of randomness. Stochastic signals are often described in terms of statistical properties. Examples of stochastic signals are measurement noise and signals that possess uncertainty.\n",
    "\n",
    "Signal processing \n",
    "\n",
    "### Systems"
   ]
  },
  {
   "cell_type": "markdown",
   "metadata": {},
   "source": [
    "## "
   ]
  }
 ],
 "metadata": {
  "kernelspec": {
   "display_name": "Python 3",
   "language": "python",
   "name": "python3"
  },
  "language_info": {
   "codemirror_mode": {
    "name": "ipython",
    "version": 3
   },
   "file_extension": ".py",
   "mimetype": "text/x-python",
   "name": "python",
   "nbconvert_exporter": "python",
   "pygments_lexer": "ipython3",
   "version": "3.8.18"
  }
 },
 "nbformat": 4,
 "nbformat_minor": 2
}
