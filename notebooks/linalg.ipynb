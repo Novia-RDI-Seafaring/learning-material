{
 "cells": [
  {
   "cell_type": "code",
   "execution_count": 2,
   "id": "26abee7c-06f0-4c9b-bc56-ef827b3429ad",
   "metadata": {},
   "outputs": [],
   "source": [
    "import numpy as np\n",
    "import matplotlib.pyplot as plt"
   ]
  },
  {
   "cell_type": "markdown",
   "id": "79e3f91d-846d-4d64-bacb-5702c05e0650",
   "metadata": {},
   "source": [
    "# Introduction to Linear Algebra\n",
    "## Purpose\n",
    "This crash-course in linear algebra is based on the lecture series in linear algebra by [3Blue1Brown](https://youtube.com/playlist?list=PLZHQObOWTQDPD3MizzM2xVFitgF8hE_ab&si=Ojw8j-4N-uYjDxyz). The youtube material is excellent for building an intuition and getting more comfortable working with vectors, matrices, and transformations. However, learning linear algebra (or anything in general) require practice. Thus, we have complemented the material with problem sets.\n",
    "\n",
    "*All problem sets should be solved using only the packages included above*\n",
    "\n",
    "### Learning goals:\n",
    "- Intoduce basic concepts such as vectors and matrices operations and transformations.\n",
    "- Understand basic properties and concepts related to matrices. Matrix transpose, inverse, rank, eigen values, eigen vectors, ...\n",
    "- Learn a few matrix decompositions.\n",
    "- Learn to solve linear least-squares problems.\n",
    "- Get a basic understanding of convex optimization.\n",
    "- Introduction to vector spaces.\n",
    "\n",
    "## Introduction\n",
    "Becoming comfortable with linear algebra as an engineering researcher might be the single most essential skill to learn (except maybe calculus and programming). Many of the research advancements in the past decades in fields such as control theory, signal processing, machine learning (ML), and optimization stem back to good foundations in linear algebra. Linear algebra provides the tools for numerically (by computations) and theoretically (by calculation) solving engineering problems. Fundamental concepts, such as regression (fitting models to data), classification (labeling data into categories), and clustering (finding patterns in data) are built on a foundation of linear algebra. Moreover, linear algebra is a cornerstone for many other disciplines beyond engineering, including physics, economics, computer graphics, and cryptography. Thus, mastering linear algebra empowers researchers with versatile problem-solving skills across numerous domains.\n",
    "\n",
    "The relatively recent introduction of computer-aided tools like MATLAB and python packages such as *NymPy, SciLearn, TensorFlow, PyTorch*, etc., has accelerated the pace of research and development enormously. The ease of use of these packages allows users to perform complex machine learning and control theoretic tasks with more or less single lines of code. Thus, the development and prototyping of new algorithms have been significantly speeded up. Although this advance is fantastic, one needs to be cautious. The ease-of-use of these packages makes it easy to forget the fundamentals and can give a false impression of learning and understanding. Running a piece of code is is not the same discovering a mathematical proof! A solid foundation in linear can help us prove and analyze systems and make conclusions that extends far beyond of what a cpiece of computer program can do.\n",
    "\n",
    "## Additional reading and watching\n",
    "- MIT 18.06 Linear Algebra, Prof. Gilbert Strang [lecture material](https://ocw.mit.edu/courses/18-06-linear-algebra-spring-2010/pages/syllabus/)\n",
    "- [Filtering and System Identification](https://www.cambridge.org/core/books/filtering-and-system-identification/D8589CB019CB233291427967DEE3EBE1), Section 2 Linear Algebra, Verhaegen and Verdult\n"
   ]
  },
  {
   "cell_type": "markdown",
   "id": "f37028c4-e11d-47b9-a908-10c980d7af9b",
   "metadata": {},
   "source": [
    "---\n",
    "# Ch. 1. Vectors\n",
    "\n",
    "[![essence of linear algebra](https://img.youtube.com/vi/fNk_zzaMoSs/0.jpg)](http://www.youtube.com/watch?v=fNk_zzaMoSs)\n",
    "\n",
    "[![essence of linear algebra](https://img.youtube.com/vi/k7RM-ot2NWY/0.jpg)](http://www.youtube.com/watch?v=k7RM-ot2NWY)\n",
    "\n",
    "### New concepts:\n",
    "- vectors\n",
    "- vector addition and multiplication\n",
    "\n",
    "### Self reflection after watching:\n",
    "- Why do you think we make a difference between a point $(x,y)$ and a vector $\\begin{bmatrix} x\\\\y \\end{bmatrix}$ in a coordinate system?\n",
    "- Can you think of other ways to represent a vector than the 'ordered list' $\\begin{bmatrix} x\\\\y \\end{bmatrix}$?\n",
    "- You are given two vectors $e_1 = \\begin{bmatrix} 1\\\\0 \\end{bmatrix}$ and $e_2 = \\begin{bmatrix} 0\\\\1 \\end{bmatrix}$. Which other vectors can you create from $e_1, e_2$ by addition and scaling?\n",
    "- Can you think of good ways to define the length of a vector?\n",
    "\n",
    "### Problem set\n",
    "\n",
    "**P1.1.** What is the (Eucledian) length of the following vectors $v_1 = \\begin{bmatrix} 1\\\\0 \\end{bmatrix}$, $v_2 = \\begin{bmatrix} 1\\\\1 \\end{bmatrix}$, and $v_3 = \\begin{bmatrix} 1\\\\2\\\\3 \\end{bmatrix}$?\n",
    "\n"
   ]
  },
  {
   "cell_type": "code",
   "execution_count": 53,
   "id": "383c135f-8219-4f9b-b935-b6eefcb606fa",
   "metadata": {},
   "outputs": [],
   "source": [
    "# Answer: "
   ]
  },
  {
   "cell_type": "markdown",
   "id": "f2f73401-81b3-4599-99f6-a97c050ffa53",
   "metadata": {},
   "source": [
    "**P1.2.** A ship (see figure) is affected by two forces (in some units):\n",
    "- Forward thrust: $v_1 = \\begin{bmatrix} 0\\\\1 \\end{bmatrix}$\n",
    "- Side wind: $v_2 = \\begin{bmatrix} 1\\\\0.5 \\end{bmatrix}$\n",
    "\n",
    "What is the net force (vector) affectig the ship? Draw the net force (vector) in the figure below. What is the magnitude of the net force?"
   ]
  },
  {
   "cell_type": "code",
   "execution_count": 65,
   "id": "b829a347-c5ed-45db-8b04-26f90c5c999a",
   "metadata": {},
   "outputs": [
    {
     "data": {
      "image/png": "[encoded data removed]",
      "text/plain": [
       "<Figure size 640x480 with 1 Axes>"
      ]
     },
     "metadata": {},
     "output_type": "display_data"
    }
   ],
   "source": [
    "def drawShip(angle=0):\n",
    "    angle = angle*np.pi/180\n",
    "    verts= np.array([[-0.1, -0.1, 0, 0.1, 0.1, -0.1],[-0.1, 0.1, 0.2, 0.1, -0.1, -0.1]])\n",
    "\n",
    "    rot = np.array([[np.cos(angle), -np.sin(angle)],\n",
    "                            [np.sin(angle), np.cos(angle)]])\n",
    "\n",
    "    verts = rot@verts\n",
    "    \n",
    "    ax.plot(verts[0], verts[1], linestyle='-', color='k')\n",
    "    \n",
    "def drawVec2(x,label):\n",
    "    ax.arrow(0, 0, x[0], x[1], head_width=0.1, head_length=0.1, fc='blue', ec='blue')\n",
    "    ax.text(x[0], x[1], label, verticalalignment='bottom', horizontalalignment='right', fontsize=12)\n",
    "\n",
    "# Define the vector v directly\n",
    "v_1 = np.array([0, 1])\n",
    "v_2 = np.array([0.5, 0.25])\n",
    "\n",
    "# Create a figure and axis\n",
    "fig, ax = plt.subplots()\n",
    "\n",
    "# Plot the vector as an arrow\n",
    "drawVec2(v_1,'$v_1$')\n",
    "drawVec2(v_2,'$v_2$')\n",
    "drawShip()\n",
    "\n",
    "# Set the limits of the plot\n",
    "ax.set_xlim(-2, 2)\n",
    "ax.set_ylim(-2, 2)\n",
    "# Set grid\n",
    "ax.grid(True)\n",
    "\n",
    "# Show the plot\n",
    "plt.show()\n"
   ]
  },
  {
   "cell_type": "markdown",
   "id": "9c3814cd-181c-4068-9a8e-f71564b9d21a",
   "metadata": {},
   "source": [
    "**P1.3** What does the set (collection) of **all** vectors of length (Euclidean) one look like? Make a python code that draws 100 different vectors of length one. How many different ways drawing vectors of length one can you think of?"
   ]
  },
  {
   "cell_type": "code",
   "execution_count": null,
   "id": "e615f8ea-cd33-4bc2-8434-83f50f344fb5",
   "metadata": {},
   "outputs": [],
   "source": []
  },
  {
   "cell_type": "markdown",
   "id": "1f469c58-98d5-4257-a6db-19934f426a43",
   "metadata": {},
   "source": [
    "**P1.X.** Create an exercise for the next person who reads this based on the information you have learnt so far. Provide a model solution."
   ]
  },
  {
   "cell_type": "code",
   "execution_count": null,
   "id": "70441d47-ede2-43a6-9102-6840b2762daf",
   "metadata": {},
   "outputs": [],
   "source": []
  },
  {
   "cell_type": "markdown",
   "id": "336b8a19-6e64-49c4-bdca-0826a4d940b0",
   "metadata": {},
   "source": []
  },
  {
   "cell_type": "code",
   "execution_count": null,
   "id": "9ff2732f-53c5-4b4b-a766-95ac0ecc0187",
   "metadata": {},
   "outputs": [],
   "source": []
  }
 ],
 "metadata": {
  "kernelspec": {
   "display_name": "Python 3 (ipykernel)",
   "language": "python",
   "name": "python3"
  },
  "language_info": {
   "codemirror_mode": {
    "name": "ipython",
    "version": 3
   },
   "file_extension": ".py",
   "mimetype": "text/x-python",
   "name": "python",
   "nbconvert_exporter": "python",
   "pygments_lexer": "ipython3",
   "version": "3.8.18"
  }
 },
 "nbformat": 4,
 "nbformat_minor": 5
}
