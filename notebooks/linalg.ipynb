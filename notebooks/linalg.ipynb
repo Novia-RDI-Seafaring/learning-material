{
 "cells": [
  {
   "cell_type": "code",
   "execution_count": 1,
   "id": "26abee7c-06f0-4c9b-bc56-ef827b3429ad",
   "metadata": {},
   "outputs": [],
   "source": [
    "import numpy as np"
   ]
  },
  {
   "cell_type": "markdown",
   "id": "79e3f91d-846d-4d64-bacb-5702c05e0650",
   "metadata": {},
   "source": [
    "# Introduction to linear algebra\n",
    "This crash-course in linear algebra is based on the lecture series in linear algebra by [3Blue1Brown](https://youtube.com/playlist?list=PLZHQObOWTQDPD3MizzM2xVFitgF8hE_ab&si=Ojw8j-4N-uYjDxyz). The youtube material is excellent for building an intuition and getting more comfortable working with vectors, matrices, and transformations. However, learning linear algebra (or anything in general) require practice. Thus, we have complemented the material with problem sets.\n",
    "\n",
    "*All problem sets should be solved without additional packages than the ones included above*\n",
    "\n",
    "### Additional learning material\n",
    "- MIT 18.06 Linear Algebra, Prof. Gilbert Strang [lecture material](https://ocw.mit.edu/courses/18-06-linear-algebra-spring-2010/pages/syllabus/)\n"
   ]
  },
  {
   "cell_type": "markdown",
   "id": "f37028c4-e11d-47b9-a908-10c980d7af9b",
   "metadata": {},
   "source": [
    "# 1. Essence of linear algebra\n",
    "[![essence of linear algebra](https://img.youtube.com/vi/fNk_zzaMoSs/0.jpg)](http://www.youtube.com/watch?v=fNk_zzaMoSs)\r\n",
    "\n",
    "a>\n"
   ]
  },
  {
   "cell_type": "markdown",
   "id": "19eaaf6c-ab44-4c37-8da5-96c49e1bf5f4",
   "metadata": {},
   "source": [
    "## Problem set 1"
   ]
  },
  {
   "cell_type": "code",
   "execution_count": null,
   "id": "5e2ce2b7-4ba2-41bb-b712-5006dff59d0b",
   "metadata": {},
   "outputs": [],
   "source": []
  }
 ],
 "metadata": {
  "kernelspec": {
   "display_name": "Python 3 (ipykernel)",
   "language": "python",
   "name": "python3"
  },
  "language_info": {
   "codemirror_mode": {
    "name": "ipython",
    "version": 3
   },
   "file_extension": ".py",
   "mimetype": "text/x-python",
   "name": "python",
   "nbconvert_exporter": "python",
   "pygments_lexer": "ipython3",
   "version": "3.8.18"
  }
 },
 "nbformat": 4,
 "nbformat_minor": 5
}
