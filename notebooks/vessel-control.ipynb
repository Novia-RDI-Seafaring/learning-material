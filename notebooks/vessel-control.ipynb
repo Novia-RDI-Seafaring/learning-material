{
 "cells": [
  {
   "cell_type": "code",
   "execution_count": 1,
   "metadata": {},
   "outputs": [],
   "source": [
    "import numpy as np\n",
    "from python_vehicle_simulator.vehicles import otter\n",
    "from python_vehicle_simulator.lib import *"
   ]
  },
  {
   "cell_type": "markdown",
   "metadata": {},
   "source": []
  },
  {
   "cell_type": "code",
   "execution_count": null,
   "metadata": {},
   "outputs": [],
   "source": [
    "vessel = otter"
   ]
  },
  {
   "cell_type": "code",
   "execution_count": 2,
   "metadata": {},
   "outputs": [],
   "source": [
    "def PID(\n",
    "    e_int,\n",
    "    e_x,\n",
    "    e_v,\n",
    "    x_d,\n",
    "    v_d,\n",
    "    a_d,\n",
    "    Kp,\n",
    "    Ki,\n",
    "    Kd,\n",
    "    wn_d,\n",
    "    zeta_d,\n",
    "    r,\n",
    "    v_max,\n",
    "    sampleTime,\n",
    "):\n",
    "\n",
    "    # PID control law\n",
    "    u = -Kp * e_x - Kd * e_v - Ki * e_int\n",
    "\n",
    "    # Integral error, Euler's method\n",
    "    e_int += sampleTime * e_x\n",
    "\n",
    "    # 3rd-order reference model for smooth position, velocity and acceleration\n",
    "    [x_d, v_d, a_d] = refModel3(x_d, v_d, a_d, r, wn_d, zeta_d, v_max, sampleTime)\n",
    "\n",
    "    return u, e_int, x_d, v_d, a_d"
   ]
  },
  {
   "cell_type": "code",
   "execution_count": null,
   "metadata": {},
   "outputs": [],
   "source": []
  }
 ],
 "metadata": {
  "kernelspec": {
   "display_name": "vessel-sim",
   "language": "python",
   "name": "python3"
  },
  "language_info": {
   "codemirror_mode": {
    "name": "ipython",
    "version": 3
   },
   "file_extension": ".py",
   "mimetype": "text/x-python",
   "name": "python",
   "nbconvert_exporter": "python",
   "pygments_lexer": "ipython3",
   "version": "3.13.0"
  }
 },
 "nbformat": 4,
 "nbformat_minor": 2
}
