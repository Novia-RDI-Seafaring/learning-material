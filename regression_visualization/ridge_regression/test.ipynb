{
 "cells": [
  {
   "cell_type": "code",
   "execution_count": 3,
   "metadata": {},
   "outputs": [
    {
     "name": "stdout",
     "output_type": "stream",
     "text": [
      "Line coefficients: a = 0.9090909090909092, b = 1.2727272727272725\n"
     ]
    }
   ],
   "source": [
    "from sklearn.linear_model import Ridge\n",
    "import numpy as np\n",
    "\n",
    "def ridge_regression_demo(x, y, alpha=1.0):\n",
    "    \"\"\"\n",
    "    Performs ridge regression on the provided data points and returns the coefficients.\n",
    "    \n",
    "    Parameters:\n",
    "    - x: array-like, shape (n_samples,) - The input values of the data points.\n",
    "    - y: array-like, shape (n_samples,) - The output/target values of the data points.\n",
    "    - alpha: float - Regularization strength; must be a positive float. Larger values specify stronger regularization.\n",
    "    \n",
    "    Returns:\n",
    "    - coef_: array - Coefficients of the model.\n",
    "    - intercept_: float - Intercept of the model.\n",
    "    \"\"\"\n",
    "    # Reshape x to (-1, 1) because sklearn expects it in this shape\n",
    "    x_reshaped = x.reshape(-1, 1)\n",
    "    \n",
    "    # Create and fit the model\n",
    "    model = Ridge(alpha=alpha)\n",
    "    model.fit(x_reshaped, y)\n",
    "    \n",
    "    # Return the coefficient and intercept\n",
    "    return model.coef_[0], model.intercept_\n",
    "\n",
    "# Example usage\n",
    "x = np.array([1, 2, 3, 4, 5])\n",
    "y = np.array([2, 3, 4, 5, 6])\n",
    "\n",
    "a, b = ridge_regression_demo(x, y, alpha=1.0)\n",
    "print(f\"Line coefficients: a = {a}, b = {b}\")\n"
   ]
  },
  {
   "cell_type": "code",
   "execution_count": 3,
   "metadata": {},
   "outputs": [
    {
     "name": "stdout",
     "output_type": "stream",
     "text": [
      "[[1]\n",
      " [2]\n",
      " [3]\n",
      " [4]\n",
      " [5]]\n",
      "[[1. 1.]\n",
      " [1. 2.]\n",
      " [1. 3.]\n",
      " [1. 4.]\n",
      " [1. 5.]]\n",
      "[[1. 1.]\n",
      " [1. 2.]\n",
      " [1. 3.]\n",
      " [1. 4.]\n",
      " [1. 5.]]\n",
      "Coefficients: [1.27272727 0.90909091]\n",
      "a =  1.2727272727272743  b =  0.909090909090909\n"
     ]
    }
   ],
   "source": [
    "import numpy as np\n",
    "\n",
    "def ridge_regression(X, y, alpha=1.0):\n",
    "    \"\"\"\n",
    "    Perform ridge regression using the normal equation.\n",
    "\n",
    "    Parameters:\n",
    "    - X: numpy array, shape (n_samples, n_features) - Input features.\n",
    "    - y: numpy array, shape (n_samples,) - Target values.\n",
    "    - alpha: float - Regularization strength.\n",
    "\n",
    "    X = [1, x1], [1,x2]\n",
    "\n",
    "    Returns:\n",
    "    - coefficients: numpy array - Coefficients for the regression model.\n",
    "    \"\"\"\n",
    "    n_features = X.shape[1]\n",
    "    X_with_intercept = np.hstack([np.ones((X.shape[0], 1)), X])  \n",
    "    \n",
    "    print(X_with_intercept)\n",
    "\n",
    "    I = np.eye(n_features + 1)\n",
    "    I[0, 0] = 0  \n",
    "    \n",
    "    coefficients = np.linalg.inv(X_with_intercept.T.dot(X_with_intercept) + alpha * I).dot(X_with_intercept.T).dot(y)\n",
    "    \n",
    "    return coefficients  \n",
    "\n",
    "# Example usage\n",
    "X = np.array([[1], [2], [3], [4], [5]])  \n",
    "\n",
    "print(X)\n",
    "y = np.array([2, 3, 4, 5, 6])\n",
    "\n",
    "coefficients = ridge_regression(X, y, alpha=1.0)\n",
    "\n",
    "a, b = ridge_regression(X, y , alpha=1.0)\n",
    "print(f\"Coefficients: {coefficients}\")\n",
    "\n",
    "print(\"a = \", a, \" b = \", b)\n"
   ]
  },
  {
   "cell_type": "code",
   "execution_count": null,
   "metadata": {},
   "outputs": [],
   "source": []
  },
  {
   "cell_type": "code",
   "execution_count": null,
   "metadata": {},
   "outputs": [],
   "source": []
  }
 ],
 "metadata": {
  "kernelspec": {
   "display_name": "mathenv",
   "language": "python",
   "name": "python3"
  },
  "language_info": {
   "codemirror_mode": {
    "name": "ipython",
    "version": 3
   },
   "file_extension": ".py",
   "mimetype": "text/x-python",
   "name": "python",
   "nbconvert_exporter": "python",
   "pygments_lexer": "ipython3",
   "version": "3.12.2"
  }
 },
 "nbformat": 4,
 "nbformat_minor": 2
}
